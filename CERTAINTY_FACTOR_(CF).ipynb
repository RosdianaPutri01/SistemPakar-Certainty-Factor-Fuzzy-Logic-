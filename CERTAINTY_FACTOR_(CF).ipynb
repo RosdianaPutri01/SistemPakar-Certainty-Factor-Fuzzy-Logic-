{
  "nbformat": 4,
  "nbformat_minor": 0,
  "metadata": {
    "colab": {
      "provenance": [],
      "authorship_tag": "ABX9TyN7+TDkk4XauVoxiQ9F9Ugz",
      "include_colab_link": true
    },
    "kernelspec": {
      "name": "python3",
      "display_name": "Python 3"
    },
    "language_info": {
      "name": "python"
    }
  },
  "cells": [
    {
      "cell_type": "markdown",
      "metadata": {
        "id": "view-in-github",
        "colab_type": "text"
      },
      "source": [
        "<a href=\"https://colab.research.google.com/github/RosdianaPutri01/SistemPakar-Certainty-Factor-Fuzzy-Logic-/blob/main/CERTAINTY_FACTOR_(CF).ipynb\" target=\"_parent\"><img src=\"https://colab.research.google.com/assets/colab-badge.svg\" alt=\"Open In Colab\"/></a>"
      ]
    },
    {
      "cell_type": "code",
      "execution_count": 12,
      "metadata": {
        "colab": {
          "base_uri": "https://localhost:8080/"
        },
        "id": "IPlIT-X2snOL",
        "outputId": "c3f4a810-4ecb-4be9-c9d7-ec90ad489d80"
      },
      "outputs": [
        {
          "output_type": "stream",
          "name": "stdout",
          "text": [
            "CF diagnosis Flu: 0.91\n"
          ]
        }
      ],
      "source": [
        "gejala_user = {\n",
        "    \"demam\": 0.2,\n",
        "    \"batuk\": 0.4,\n",
        "    \"sakit_tenggorokan\": 0.7,\n",
        "    \"pilek\": 0.4,             # Gejala baru\n",
        "    \"nyeri_otot\": 0.5,        # Gejala baru\n",
        "    \"kelelahan\": 0.6,         # Gejala baru\n",
        "    \"mual\": 0.3,              # Gejala baru\n",
        "    \"sesak_nafas\": 0.4        # Gejala baru\n",
        "}\n",
        "\n",
        "pengetahuan = {\n",
        "    \"flu\": {\n",
        "        \"demam\": 0.8,\n",
        "        \"batuk\": 0.7,\n",
        "        \"sakit_tenggorokan\": 0.6,\n",
        "        \"pilek\": 0.5,\n",
        "        \"nyeri_otot\": 0.6,\n",
        "        \"kelelahan\": 0.7,\n",
        "        \"mual\": 0.4,\n",
        "        \"sesak_nafas\": 0.3\n",
        "    }\n",
        "}\n",
        "\n",
        "def hitung_cf(gejala_user, pengetahuan_pakar):\n",
        "    cf_total = 0\n",
        "    first = True\n",
        "    for gejala, cf_user in gejala_user.items():\n",
        "        if gejala in pengetahuan_pakar:\n",
        "            cf_pakar = pengetahuan_pakar[gejala]\n",
        "            cf = cf_user * cf_pakar\n",
        "            if first:\n",
        "                cf_total = cf\n",
        "                first = False\n",
        "            else:\n",
        "                cf_total = cf_total + cf * (1 - cf_total)\n",
        "    return cf_total\n",
        "\n",
        "cf_flu = hitung_cf(gejala_user, pengetahuan[\"flu\"])\n",
        "print(f\"CF diagnosis Flu: {cf_flu:.2f}\")\n",
        "\n",
        "#Nilai CF untuk demam yang lebih rendah 0.2 seharusnya menurunkan nilai CF total.\n",
        "#karena gejala lain seperti batuk dan sakit tenggorokan memiliki nilai CF yang cukup tinggi 0.4 dan 0.7, hasil CF total tida turun\n",
        "#Perhitungan CF total melibatkan interaksi kumulatif antara semua gejala. Meskipun satu gejala (demam) berubah, kontribusi gejala lainnya tetap cukup kuat untuk menjaga CF diagnosis flu tetap tinggi\n"
      ]
    },
    {
      "cell_type": "code",
      "source": [
        "gejala_user = {\n",
        "    \"nyeri_sendi\": 0.8,\n",
        "    \"bengkak_sendi\": 0.7,\n",
        "    \"kaku_sendi_pagi\": 0.9,\n",
        "    \"demam_ringan\": 0.3\n",
        "}\n",
        "\n",
        "pengetahuan = {\n",
        "    \"rheumatoid_arthritis\": {\n",
        "        \"nyeri_sendi\": 0.9,\n",
        "        \"bengkak_sendi\": 0.8,\n",
        "        \"kaku_sendi_pagi\": 0.9,\n",
        "        \"demam_ringan\": 0.4\n",
        "    },\n",
        "    \"osteoarthritis\": {\n",
        "        \"nyeri_sendi\": 0.8,\n",
        "        \"bengkak_sendi\": 0.6,\n",
        "        \"kaku_sendi_pagi\": 0.5\n",
        "    }\n",
        "}\n",
        "\n",
        "def hitung_cf(gejala_user, pengetahuan_pakar):\n",
        "    cf_total = 0\n",
        "    first = True\n",
        "    for gejala, cf_user in gejala_user.items():\n",
        "        if gejala in pengetahuan_pakar:\n",
        "            cf_pakar = pengetahuan_pakar[gejala]\n",
        "            cf = cf_user * cf_pakar\n",
        "            if first:\n",
        "                cf_total = cf\n",
        "                first = False\n",
        "            else:\n",
        "                cf_total = cf_total + cf * (1 - cf_total)\n",
        "    return cf_total\n",
        "\n",
        "# Mendiagnosa dua penyakit berdasarkan gejala yang sama\n",
        "for penyakit in pengetahuan:\n",
        "    cf_result = hitung_cf(gejala_user, pengetahuan[penyakit])\n",
        "    print(f\"CF diagnosis {penyakit}: {cf_result:.2f}\")\n"
      ],
      "metadata": {
        "colab": {
          "base_uri": "https://localhost:8080/"
        },
        "id": "M7BbNMIxs-nf",
        "outputId": "ae706688-02bc-4ddc-fe2b-f1ea550eb0d8"
      },
      "execution_count": 2,
      "outputs": [
        {
          "output_type": "stream",
          "name": "stdout",
          "text": [
            "CF diagnosis rheumatoid_arthritis: 0.98\n",
            "CF diagnosis osteoarthritis: 0.89\n"
          ]
        }
      ]
    },
    {
      "cell_type": "code",
      "source": [
        "# Example 4: Diabetes Diagnosis with Weighted Symptoms\n",
        "\n",
        "gejala_user = {\n",
        "    \"sering_haus\": 0.8,\n",
        "    \"sering_buang_air_kecil\": 0.9,\n",
        "    \"penurunan_berat_badan\": 0.6,\n",
        "    \"luka_lambat_sembuh\": 0.7,\n",
        "    \"penglihatan_kabur\": 0.5\n",
        "}\n",
        "\n",
        "# Pengetahuan pakar dengan bobot gejala\n",
        "pengetahuan = {\n",
        "    \"diabetes_tipe1\": {\n",
        "        \"sering_haus\": 0.9,\n",
        "        \"sering_buang_air_kecil\": 0.9,\n",
        "        \"penurunan_berat_badan\": 0.8,\n",
        "        \"luka_lambat_sembuh\": 0.5\n",
        "    },\n",
        "    \"diabetes_tipe2\": {\n",
        "        \"sering_haus\": 0.7,\n",
        "        \"sering_buang_air_kecil\": 0.7,\n",
        "        \"penurunan_berat_badan\": 0.5,\n",
        "        \"luka_lambat_sembuh\": 0.8,\n",
        "        \"penglihatan_kabur\": 0.6\n",
        "    }\n",
        "}\n",
        "\n",
        "# Bobot kepentingan gejala (1-5)\n",
        "bobot_gejala = {\n",
        "    \"sering_haus\": 4,\n",
        "    \"sering_buang_air_kecil\": 4,\n",
        "    \"penurunan_berat_badan\": 3,\n",
        "    \"luka_lambat_sembuh\": 5,\n",
        "    \"penglihatan_kabur\": 2\n",
        "}\n",
        "\n",
        "def hitung_cf_weighted(gejala_user, pengetahuan_pakar, bobot):\n",
        "    cf_total = 0\n",
        "    first = True\n",
        "    total_bobot = 0\n",
        "\n",
        "    for gejala, cf_user in gejala_user.items():\n",
        "        if gejala in pengetahuan_pakar and gejala in bobot:\n",
        "            cf_pakar = pengetahuan_pakar[gejala]\n",
        "            gejala_weight = bobot[gejala] / 5  # Normalisasi bobot (1–5) -> (0.2–1.0)\n",
        "            cf = cf_user * cf_pakar * gejala_weight\n",
        "\n",
        "            if first:\n",
        "                cf_total = cf\n",
        "                first = False\n",
        "            else:\n",
        "                cf_total = cf_total + cf * (1 - cf_total)\n",
        "\n",
        "            total_bobot += gejala_weight\n",
        "\n",
        "    # Normalisasi hasil berdasarkan total bobot\n",
        "    if total_bobot > 0:\n",
        "        cf_total = cf_total / total_bobot * len([g for g in gejala_user if g in pengetahuan_pakar])\n",
        "\n",
        "    return cf_total\n",
        "\n",
        "\n",
        "for penyakit in pengetahuan:\n",
        "    cf_result = hitung_cf_weighted(gejala_user, pengetahuan[penyakit], bobot_gejala)\n",
        "    print(f\"CF diagnosis {penyakit}: {cf_result:.2f}\")"
      ],
      "metadata": {
        "colab": {
          "base_uri": "https://localhost:8080/"
        },
        "id": "sEigG_6CtDRa",
        "outputId": "6b91b9d5-3427-464a-d739-72d32979dbe1"
      },
      "execution_count": 3,
      "outputs": [
        {
          "output_type": "stream",
          "name": "stdout",
          "text": [
            "CF diagnosis diabetes_tipe1: 1.16\n",
            "CF diagnosis diabetes_tipe2: 1.27\n"
          ]
        }
      ]
    }
  ]
}